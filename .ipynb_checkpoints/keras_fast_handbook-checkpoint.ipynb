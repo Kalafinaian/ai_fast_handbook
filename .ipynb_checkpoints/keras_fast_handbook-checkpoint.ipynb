{
 "cells": [
  {
   "cell_type": "code",
   "execution_count": null,
   "id": "9db48e2a",
   "metadata": {},
   "outputs": [],
   "source": [
    "import os\n",
    "import onnx\n",
    "import keras\n",
    "import logging\n",
    "import subprocess\n",
    "import numpy as np\n",
    "import pandas as pd\n",
    "import tensorflow as tf\n",
    "import onnxruntime as ort\n",
    "from sklearn.metrics import accuracy_score\n",
    "from keras.models import Sequential, Model, load_model, save_model\n",
    "from keras.layers import Dense, Activation, Dropout, Conv2D, Flatten, MaxPool2D, Input, Conv1D\n",
    "from keras.utils.np_utils import to_categorical\n",
    "\n",
    "tf.autograph.set_verbosity(0)\n",
    "logging.getLogger(\"tensorflow\").setLevel(logging.ERROR)"
   ]
  },
  {
   "cell_type": "markdown",
   "id": "b2b1e5e7",
   "metadata": {},
   "source": [
    "# Param Config"
   ]
  },
  {
   "cell_type": "code",
   "execution_count": null,
   "id": "9dc34010",
   "metadata": {},
   "outputs": [],
   "source": [
    "N_EPOCH = 1\n",
    "N_BATCH = 64\n",
    "N_BATCH_NUM = 500\n",
    "S_DATA_PATH = r\"mnist_train.csv\"\n",
    "S_KERAS_MODEL_DIR_PATH = r\"cnn_keras\"\n",
    "S_KERAS_MODEL_PATH = r\"cnn_keras.h5\"\n",
    "S_ONNX_MODEL_PATH = r\"cnn_keras.onnx\"\n",
    "S_DEVICE, N_DEVICE_ID, S_DEVICE_FULL = \"cuda\", 0, \"cuda:0\"\n",
    "# S_DEVICE, N_DEVICE_ID, S_DEVICE_FULL = \"cpu\", 0, \"cpu\"\n",
    "\n",
    "if S_DEVICE == \"cpu\":\n",
    "    os.environ[\"CUDA_VISIBLE_DEVICES\"] = \"-1\""
   ]
  },
  {
   "cell_type": "markdown",
   "id": "74003e28",
   "metadata": {},
   "source": [
    "# Read Data"
   ]
  },
  {
   "cell_type": "code",
   "execution_count": null,
   "id": "568b202e",
   "metadata": {},
   "outputs": [],
   "source": [
    "df = pd.read_csv(S_DATA_PATH, header=None)\n",
    "np_mat = np.array(df)\n",
    "print(df.shape)\n",
    "print(np_mat.shape)\n",
    "\n",
    "X = np_mat[:, 1:]\n",
    "Y = np_mat[:, 0]\n",
    "X = X.astype(np.float32) / 255\n",
    "X_train = X[:N_BATCH * N_BATCH_NUM]\n",
    "X_test = X[N_BATCH * N_BATCH_NUM:]\n",
    "Y_train = Y[:N_BATCH * N_BATCH_NUM]\n",
    "Y_test = Y[N_BATCH * N_BATCH_NUM:]\n",
    "\n",
    "X_train = X_train.reshape(X_train.shape[0], 28, 28, 1)\n",
    "X_test = X_test.reshape(X_test.shape[0], 28, 28, 1)\n",
    "Y_train = to_categorical(Y_train, num_classes=10)\n",
    "Y_test = to_categorical(Y_test, num_classes=10)\n",
    "print(X_train.shape)\n",
    "print(Y_train.shape)\n",
    "print(X_test.shape)\n",
    "print(Y_test.shape)"
   ]
  },
  {
   "cell_type": "markdown",
   "id": "ff7af350",
   "metadata": {},
   "source": [
    "# Build Model"
   ]
  },
  {
   "cell_type": "code",
   "execution_count": null,
   "id": "ad6d1825",
   "metadata": {},
   "outputs": [],
   "source": [
    "x_in = Input(shape=(28, 28, 1))  # 图像维度必须是 w h c\n",
    "x = Conv2D(filters=32, kernel_size=(3, 3))(x_in)\n",
    "x = MaxPool2D(pool_size=(2, 2))(x)\n",
    "x = Dropout(0.2)(x)\n",
    "x = Flatten()(x)\n",
    "x = Dense(128)(x)\n",
    "x = Activation('relu')(x)\n",
    "x = Dense(10)(x)\n",
    "y = Activation('softmax')(x)\n",
    "model = Model(x_in, y)\n",
    "model.compile(optimizer='adam', loss='categorical_crossentropy', metrics=['accuracy'])\n",
    "print(model.summary())"
   ]
  },
  {
   "cell_type": "markdown",
   "id": "118cd938",
   "metadata": {},
   "source": [
    "# Model Train and Model Save"
   ]
  },
  {
   "cell_type": "code",
   "execution_count": null,
   "id": "dee7705d",
   "metadata": {},
   "outputs": [],
   "source": [
    "model.fit(X_train,\n",
    "          Y_train,\n",
    "          epochs=N_EPOCH,\n",
    "          batch_size=N_BATCH,\n",
    "          verbose=1,\n",
    "          validation_data=(X_test, Y_test))\n",
    "score = model.evaluate(X_test, Y_test, verbose=0)\n",
    "print('Test score:', score[0])\n",
    "print('Test accuracy:', score[1])\n",
    "save_model(model, S_KERAS_MODEL_PATH)"
   ]
  },
  {
   "cell_type": "markdown",
   "id": "e0d3152f",
   "metadata": {},
   "source": [
    "# Model Load and Loaded Model Use "
   ]
  },
  {
   "cell_type": "code",
   "execution_count": null,
   "id": "38a8a90d",
   "metadata": {},
   "outputs": [],
   "source": [
    "load_model = load_model(S_KERAS_MODEL_PATH)\n",
    "print(\"load model ok\")\n",
    "score = load_model.evaluate(X_test, Y_test, verbose=0)\n",
    "print('load model Test score:', score[0])\n",
    "print('load model Test accuracy:', score[1])"
   ]
  },
  {
   "cell_type": "markdown",
   "id": "8afc27ad",
   "metadata": {},
   "source": [
    "# Export Onnx"
   ]
  },
  {
   "cell_type": "code",
   "execution_count": null,
   "id": "66ec6851",
   "metadata": {},
   "outputs": [],
   "source": [
    "s_cmd = 'python -m tf2onnx.convert --keras %s --output %s' % (S_KERAS_MODEL_PATH, S_ONNX_MODEL_PATH)\n",
    "print(s_cmd)\n",
    "print(os.system(s_cmd))\n",
    "# proc = subprocess.run(s_cmd.split(), check=True)\n",
    "# print(proc.returncode)"
   ]
  },
  {
   "cell_type": "markdown",
   "id": "4c0dc389",
   "metadata": {},
   "source": [
    "# # Onnx load and Onnx Run"
   ]
  },
  {
   "cell_type": "code",
   "execution_count": null,
   "id": "d764ee3f",
   "metadata": {},
   "outputs": [],
   "source": [
    "model = onnx.load(S_ONNX_MODEL_PATH)\n",
    "print(onnx.checker.check_model(model))  # Check that the model is well formed\n",
    "print(onnx.helper.printable_graph(model.graph))  # Print a human readable representation of the graph\n",
    "ls_input_name, ls_output_name = [input.name for input in model.graph.input], [output.name for output in model.graph.output]\n",
    "print(\"input name \", ls_input_name)\n",
    "print(\"output name \", ls_output_name)\n",
    "s_input_name = ls_input_name[0]\n",
    "\n",
    "x_input = X_train[:N_BATCH*2, :, :, :].astype(np.float32)\n",
    "ort_val = ort.OrtValue.ortvalue_from_numpy(x_input, S_DEVICE, N_DEVICE_ID)\n",
    "print(\"val device \", ort_val.device_name())\n",
    "print(\"val shape \", ort_val.shape())\n",
    "print(\"val data type \", ort_val.data_type())\n",
    "print(\"is_tensor \", ort_val.is_tensor())\n",
    "print(\"array_equal \", np.array_equal(ort_val.numpy(), x_input))\n",
    "providers = 'CUDAExecutionProvider' if S_DEVICE == \"cuda\" else 'CPUExecutionProvider'\n",
    "print(\"providers \", providers)\n",
    "ort_session = ort.InferenceSession(S_ONNX_MODEL_PATH, providers=[providers])  # gpu运行\n",
    "ort_session.set_providers([providers])\n",
    "outputs = ort_session.run(None, {s_input_name: ort_val})\n",
    "print(\"sess env \", ort_session.get_providers())\n",
    "print(type(outputs))\n",
    "print(outputs[0])"
   ]
  },
  {
   "cell_type": "code",
   "execution_count": null,
   "id": "2bc384f3",
   "metadata": {},
   "outputs": [],
   "source": [
    "'''\n",
    "For example ['CUDAExecutionProvider', 'CPUExecutionProvider']\n",
    "    means execute a node using CUDAExecutionProvider if capable, otherwise execute using CPUExecutionProvider.\n",
    "'''"
   ]
  },
  {
   "cell_type": "code",
   "execution_count": null,
   "id": "7bcc5f90",
   "metadata": {},
   "outputs": [],
   "source": []
  },
  {
   "cell_type": "code",
   "execution_count": null,
   "id": "4340da61",
   "metadata": {},
   "outputs": [],
   "source": []
  },
  {
   "cell_type": "code",
   "execution_count": null,
   "id": "d3fd9e85",
   "metadata": {},
   "outputs": [],
   "source": []
  },
  {
   "cell_type": "code",
   "execution_count": null,
   "id": "ff8b6ca3",
   "metadata": {},
   "outputs": [],
   "source": []
  }
 ],
 "metadata": {
  "kernelspec": {
   "display_name": "Python 3",
   "language": "python",
   "name": "python3"
  },
  "language_info": {
   "codemirror_mode": {
    "name": "ipython",
    "version": 3
   },
   "file_extension": ".py",
   "mimetype": "text/x-python",
   "name": "python",
   "nbconvert_exporter": "python",
   "pygments_lexer": "ipython3",
   "version": "3.7.4"
  }
 },
 "nbformat": 4,
 "nbformat_minor": 5
}
