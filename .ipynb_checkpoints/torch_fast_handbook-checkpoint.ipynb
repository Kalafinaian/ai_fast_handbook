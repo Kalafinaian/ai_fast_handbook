{
 "cells": [
  {
   "cell_type": "code",
   "execution_count": null,
   "id": "4867d075",
   "metadata": {},
   "outputs": [],
   "source": [
    "import os\n",
    "import time\n",
    "import onnx\n",
    "import torch\n",
    "import numpy as np\n",
    "import pandas as pd\n",
    "import torch.nn as nn\n",
    "import onnxruntime as ort\n",
    "import torch.nn.functional as F\n",
    "from sklearn.metrics import accuracy_score\n",
    "from torch.utils.data import Dataset, DataLoader"
   ]
  },
  {
   "cell_type": "markdown",
   "id": "da28a6e4",
   "metadata": {},
   "source": [
    "# Param Config"
   ]
  },
  {
   "cell_type": "code",
   "execution_count": null,
   "id": "e3692b84",
   "metadata": {},
   "outputs": [],
   "source": [
    "N_EPOCH = 1\n",
    "N_BATCH = 128\n",
    "N_BATCH_NUM = 250\n",
    "S_DATA_PATH = r\"mnist_train.csv\"\n",
    "S_TORCH_MODEL_FULL_PATH = r\"cnn_model.pth\"\n",
    "S_TORCH_MODEL_PARAMS_PATH = r\"cnn_model_state.pth\"\n",
    "S_TORCH_MODEL_SCRIPT_PATH = r\"cnn_model.torch_script.pt\"\n",
    "S_ONNX_MODEL_PATH = r\"cnn_model_batch%d.onnx\" % N_BATCH\n",
    "S_DEVICE, N_DEVICE_ID, S_DEVICE_FULL = \"cuda\", 0, \"cuda:0\"\n",
    "# S_DEVICE, N_DEVICE_ID, S_DEVICE_FULL = \"cpu\", 0, \"cpu\""
   ]
  },
  {
   "cell_type": "markdown",
   "id": "43318bdf",
   "metadata": {},
   "source": [
    "# Read Data"
   ]
  },
  {
   "cell_type": "code",
   "execution_count": null,
   "id": "1b98ce9a",
   "metadata": {},
   "outputs": [],
   "source": [
    "df = pd.read_csv(S_DATA_PATH, header=None)\n",
    "print(df.shape)\n",
    "np_mat = np.array(df)\n",
    "print(np_mat.shape)\n",
    "\n",
    "X = np_mat[:, 1:]\n",
    "Y = np_mat[:, 0]\n",
    "X = X.astype(np.float32) / 255\n",
    "X_train = X[:N_BATCH * N_BATCH_NUM]\n",
    "X_test = X[N_BATCH * N_BATCH_NUM:]\n",
    "Y_train = Y[:N_BATCH * N_BATCH_NUM]\n",
    "Y_test = Y[N_BATCH * N_BATCH_NUM:]\n",
    "\n",
    "X_train = X_train.reshape(X_train.shape[0], 1, 28, 28)\n",
    "X_test = X_test.reshape(X_test.shape[0], 1, 28, 28)\n",
    "\n",
    "print(X_train.shape)\n",
    "print(Y_train.shape)\n",
    "print(X_test.shape)\n",
    "print(Y_test.shape)\n",
    "\n",
    "\n",
    "class MnistDataSet(Dataset):\n",
    "    def __init__(self, X, Y):\n",
    "        self.l_data, self.l_label = [], []\n",
    "        for i in range(X.shape[0]):\n",
    "            self.l_data.append(X[i, :, :, :])\n",
    "            self.l_label.append(Y[i])\n",
    "\n",
    "    def __getitem__(self, index):\n",
    "        return self.l_data[index], self.l_label[index]\n",
    "\n",
    "    def __len__(self):\n",
    "        return len(self.l_data)\n",
    "\n",
    "\n",
    "train_loader = DataLoader(MnistDataSet(X_train, Y_train), batch_size=N_BATCH, shuffle=True)\n",
    "test_loader = DataLoader(MnistDataSet(X_test, Y_test), batch_size=N_BATCH, shuffle=False)\n"
   ]
  },
  {
   "cell_type": "markdown",
   "id": "7777db63",
   "metadata": {},
   "source": [
    "# Build Model"
   ]
  },
  {
   "cell_type": "code",
   "execution_count": null,
   "id": "51847bc0",
   "metadata": {},
   "outputs": [],
   "source": [
    "class Net(nn.Module):\n",
    "    def __init__(self):\n",
    "        super(Net, self).__init__()\n",
    "        self.encoder = torch.nn.Sequential(nn.Conv2d(1, 16, 3, 1),\n",
    "                                           nn.MaxPool2d(2), nn.Flatten(1),\n",
    "                                           nn.Linear(2704, 128), nn.ReLU(),\n",
    "                                           nn.Linear(128, 10))\n",
    "\n",
    "    def forward(self, x):\n",
    "        out = self.encoder(x)\n",
    "        return out\n",
    "\n",
    "\n",
    "net = Net().to(S_DEVICE)\n",
    "optimizer = torch.optim.Adam(net.parameters(), lr=1e-3)\n",
    "loss_fun = nn.CrossEntropyLoss()\n",
    "print(net)"
   ]
  },
  {
   "cell_type": "markdown",
   "id": "cb08656a",
   "metadata": {},
   "source": [
    "# Model Train"
   ]
  },
  {
   "cell_type": "code",
   "execution_count": null,
   "id": "7eef5140",
   "metadata": {},
   "outputs": [],
   "source": [
    "print(\"model train\")\n",
    "for i in range(N_EPOCH):\n",
    "    net.train()\n",
    "    t_loss = 0.\n",
    "    np_pred, np_y = None, None\n",
    "    for j, (t_x_b, t_y_b) in enumerate(train_loader):\n",
    "        t_y_b = t_y_b.long().to(S_DEVICE)\n",
    "        t_x_b = t_x_b.float().to(S_DEVICE)\n",
    "\n",
    "        t_logits_b = net(t_x_b)\n",
    "        t_loss_b = loss_fun(t_logits_b, t_y_b)\n",
    "\n",
    "        optimizer.zero_grad()\n",
    "        t_loss_b.backward()\n",
    "        optimizer.step()\n",
    "\n",
    "        t_loss += t_loss_b\n",
    "        np_pred_b = torch.argmax(t_logits_b, -1).detach().cpu().numpy()\n",
    "        np_pred = np_pred_b if np_pred is None else np.concatenate(\n",
    "            (np_pred, np_pred_b), 0)\n",
    "        np_y = t_y_b.cpu().numpy() if np_y is None else np.concatenate(\n",
    "            (np_y, t_y_b.cpu().numpy()), 0)\n",
    "\n",
    "    f_acc = accuracy_score(np_y, np_pred)\n",
    "    print(\"train \", t_loss, f_acc)\n",
    "    print()"
   ]
  },
  {
   "cell_type": "markdown",
   "id": "f3a74d2d",
   "metadata": {},
   "source": [
    "# Model Predict"
   ]
  },
  {
   "cell_type": "code",
   "execution_count": null,
   "id": "cd2e5dfc",
   "metadata": {},
   "outputs": [],
   "source": [
    "with torch.no_grad():\n",
    "    for i in range(N_EPOCH):\n",
    "        net.eval()\n",
    "        t_loss = 0.\n",
    "        np_pred, np_y = None, None\n",
    "        for j, (t_x_b, t_y_b) in enumerate(test_loader):\n",
    "            t_y_b = t_y_b.long().to(S_DEVICE)\n",
    "            t_x_b = t_x_b.float().to(S_DEVICE)\n",
    "\n",
    "            t_logits_b = net(t_x_b)\n",
    "            t_loss_b = loss_fun(t_logits_b, t_y_b)\n",
    "\n",
    "            t_loss += t_loss_b\n",
    "\n",
    "            np_pred_b = torch.argmax(t_logits_b, -1).detach().cpu().numpy()\n",
    "            np_pred = np_pred_b if np_pred is None else np.concatenate(\n",
    "                (np_pred, np_pred_b), 0)\n",
    "            np_y = t_y_b.cpu().numpy() if np_y is None else np.concatenate(\n",
    "                (np_y, t_y_b.cpu().numpy()), 0)\n",
    "\n",
    "        f_acc = accuracy_score(np_y, np_pred)\n",
    "        print(\"test \", t_loss, f_acc)\n",
    "        print()"
   ]
  },
  {
   "cell_type": "markdown",
   "id": "b49f6cc7",
   "metadata": {},
   "source": [
    "# Model Save"
   ]
  },
  {
   "cell_type": "code",
   "execution_count": null,
   "id": "cb6fc7b8",
   "metadata": {},
   "outputs": [],
   "source": [
    "torch.save(net, S_TORCH_MODEL_FULL_PATH)\n",
    "torch.save(net.state_dict(), S_TORCH_MODEL_PARAMS_PATH)"
   ]
  },
  {
   "cell_type": "markdown",
   "id": "7a27b5ae",
   "metadata": {},
   "source": [
    "# Model Load and Loaded Model Use"
   ]
  },
  {
   "cell_type": "code",
   "execution_count": null,
   "id": "2392334e",
   "metadata": {},
   "outputs": [],
   "source": [
    "print(\"load torch model and pred test data\")\n",
    "net_load = torch.load(S_TORCH_MODEL_FULL_PATH,\n",
    "                      map_location=lambda storage, loc: storage)\n",
    "net_load = net_load.to(S_DEVICE)\n",
    "print(\"load model ok\")\n",
    "with torch.no_grad():\n",
    "    for i in range(N_EPOCH):\n",
    "        net_load.eval()\n",
    "        t_loss = 0.\n",
    "        np_pred, np_y = None, None\n",
    "        for j, (t_x_b, t_y_b) in enumerate(test_loader):\n",
    "            t_y_b = t_y_b.long().to(S_DEVICE)\n",
    "            t_x_b = t_x_b.float().to(S_DEVICE)\n",
    "\n",
    "            t_logits_b = net_load(t_x_b)\n",
    "            t_loss_b = loss_fun(t_logits_b, t_y_b)\n",
    "\n",
    "            t_loss += t_loss_b\n",
    "            np_pred_b = torch.argmax(t_logits_b, -1).detach().cpu().numpy()\n",
    "            np_pred = np_pred_b if np_pred is None else np.concatenate(\n",
    "                (np_pred, np_pred_b), 0)\n",
    "            np_y = t_y_b.cpu().numpy() if np_y is None else np.concatenate(\n",
    "                (np_y, t_y_b.cpu().numpy()), 0)\n",
    "\n",
    "        f_acc = accuracy_score(np_y, np_pred)\n",
    "        print(\"load torch model \", t_loss, f_acc)\n",
    "        print()"
   ]
  },
  {
   "cell_type": "markdown",
   "id": "bf0609e0",
   "metadata": {},
   "source": [
    "# Export Torch Script"
   ]
  },
  {
   "cell_type": "code",
   "execution_count": null,
   "id": "2b261d86",
   "metadata": {},
   "outputs": [],
   "source": [
    "torch_script_trace = torch.jit.trace(net_load, t_x_b)\n",
    "print(torch_script_trace)\n",
    "torch_script_trace.save(S_TORCH_MODEL_SCRIPT_PATH)"
   ]
  },
  {
   "cell_type": "markdown",
   "id": "c95eef38",
   "metadata": {},
   "source": [
    "# Load Torch Script and Use Script"
   ]
  },
  {
   "cell_type": "code",
   "execution_count": null,
   "id": "cf145c9a",
   "metadata": {},
   "outputs": [],
   "source": [
    "torch_script_load = torch.jit.load(S_TORCH_MODEL_SCRIPT_PATH)\n",
    "torch_script_load = torch_script_load.to(S_DEVICE)\n",
    "print(torch_script_load)\n",
    "print(torch_script_load.code)\n",
    "print(\"load scirpt model ok\")\n",
    "with torch.no_grad():\n",
    "    for i in range(N_EPOCH):\n",
    "        torch_script_load.eval()\n",
    "        t_loss = 0.\n",
    "        np_pred, np_y = None, None\n",
    "        for j, (t_x_b, t_y_b) in enumerate(test_loader):\n",
    "            t_y_b = t_y_b.long().to(S_DEVICE)\n",
    "            t_x_b = t_x_b.float().to(S_DEVICE)\n",
    "\n",
    "            t_logits_b = torch_script_load(t_x_b)\n",
    "            t_loss_b = loss_fun(t_logits_b, t_y_b)\n",
    "\n",
    "            t_loss += t_loss_b\n",
    "            np_pred_b = torch.argmax(t_logits_b, -1).detach().cpu().numpy()\n",
    "            np_pred = np_pred_b if np_pred is None else np.concatenate(\n",
    "                (np_pred, np_pred_b), 0)\n",
    "            np_y = t_y_b.cpu().numpy() if np_y is None else np.concatenate(\n",
    "                (np_y, t_y_b.cpu().numpy()), 0)\n",
    "\n",
    "        f_acc = accuracy_score(np_y, np_pred)\n",
    "        print(\"load scirpt torch model \", t_loss, f_acc)\n",
    "        print()"
   ]
  },
  {
   "cell_type": "markdown",
   "id": "cefe7d14",
   "metadata": {},
   "source": [
    "# Export Onnx"
   ]
  },
  {
   "cell_type": "code",
   "execution_count": null,
   "id": "e10533a8",
   "metadata": {},
   "outputs": [],
   "source": [
    "dummy_in = torch.randn(N_BATCH, 1, 28, 28)\n",
    "torch.onnx.export(\n",
    "    net_load.cpu(),\n",
    "    dummy_in,\n",
    "    S_ONNX_MODEL_PATH,\n",
    "    verbose=True,\n",
    "    input_names=[\"data\"],\n",
    "    output_names=[\"output\"],\n",
    "    dynamic_axes={\n",
    "        'data': {0: 'batch_size'},\n",
    "        'output': {0: 'batch_size'}\n",
    "    })"
   ]
  },
  {
   "cell_type": "markdown",
   "id": "b182b4d3",
   "metadata": {},
   "source": [
    "# ONNX Run"
   ]
  },
  {
   "cell_type": "code",
   "execution_count": null,
   "id": "178a0e0c",
   "metadata": {},
   "outputs": [],
   "source": [
    "model = onnx.load(S_ONNX_MODEL_PATH)\n",
    "print(onnx.checker.check_model(model))  # Check that the model is well formed\n",
    "print(onnx.helper.printable_graph(model.graph))  # Print a human readable representation of the graph\n",
    "ls_input_name, ls_output_name = [input.name for input in model.graph.input], [output.name for output in model.graph.output]\n",
    "print(\"input name \", ls_input_name)\n",
    "print(\"output name \", ls_output_name)\n",
    "s_input_name = ls_input_name[0]\n",
    "\n",
    "x_input = X_train[:N_BATCH*2, :, :, :].astype(np.float32)\n",
    "ort_val = ort.OrtValue.ortvalue_from_numpy(x_input, S_DEVICE, N_DEVICE_ID)\n",
    "print(\"val device \", ort_val.device_name())\n",
    "print(\"val shape \", ort_val.shape())\n",
    "print(\"val data type \", ort_val.data_type())\n",
    "print(\"is_tensor \", ort_val.is_tensor())\n",
    "print(\"array_equal \", np.array_equal(ort_val.numpy(), x_input))\n",
    "providers = 'CUDAExecutionProvider' if S_DEVICE == \"cuda\" else 'CPUExecutionProvider'\n",
    "print(\"providers \", providers)\n",
    "ort_session = ort.InferenceSession(S_ONNX_MODEL_PATH,\n",
    "                                   providers=[providers])  # gpu运行\n",
    "ort_session.set_providers([providers])\n",
    "outputs = ort_session.run(None, {s_input_name: ort_val})\n",
    "print(\"sess env \", ort_session.get_providers())\n",
    "print(type(outputs))\n",
    "print(outputs[0])\n",
    "'''\n",
    "For example ['CUDAExecutionProvider', 'CPUExecutionProvider']\n",
    "    means execute a node using CUDAExecutionProvider if capable, otherwise execute using CPUExecutionProvider.\n",
    "'''"
   ]
  },
  {
   "cell_type": "code",
   "execution_count": null,
   "id": "e07eb3fd",
   "metadata": {},
   "outputs": [],
   "source": []
  },
  {
   "cell_type": "code",
   "execution_count": null,
   "id": "49a9c7e1",
   "metadata": {},
   "outputs": [],
   "source": []
  },
  {
   "cell_type": "code",
   "execution_count": null,
   "id": "685a4167",
   "metadata": {},
   "outputs": [],
   "source": []
  }
 ],
 "metadata": {
  "kernelspec": {
   "display_name": "Python 3",
   "language": "python",
   "name": "python3"
  },
  "language_info": {
   "codemirror_mode": {
    "name": "ipython",
    "version": 3
   },
   "file_extension": ".py",
   "mimetype": "text/x-python",
   "name": "python",
   "nbconvert_exporter": "python",
   "pygments_lexer": "ipython3",
   "version": "3.7.4"
  }
 },
 "nbformat": 4,
 "nbformat_minor": 5
}
