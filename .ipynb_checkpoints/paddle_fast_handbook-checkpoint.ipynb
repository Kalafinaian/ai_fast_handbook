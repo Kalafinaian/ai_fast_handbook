{
 "cells": [
  {
   "cell_type": "code",
   "execution_count": 1,
   "metadata": {},
   "outputs": [],
   "source": [
    "import os\n",
    "import onnx\n",
    "import paddle\n",
    "import numpy as np\n",
    "import pandas as pd\n",
    "import onnxruntime as ort\n",
    "import paddle.nn.functional as F\n",
    "from paddle.metric import Accuracy\n",
    "from paddle.static import InputSpec\n",
    "from sklearn.metrics import accuracy_score"
   ]
  },
  {
   "cell_type": "markdown",
   "metadata": {},
   "source": [
    "# Param Config"
   ]
  },
  {
   "cell_type": "code",
   "execution_count": 2,
   "metadata": {},
   "outputs": [
    {
     "data": {
      "text/plain": [
       "CUDAPlace(0)"
      ]
     },
     "execution_count": 2,
     "metadata": {},
     "output_type": "execute_result"
    }
   ],
   "source": [
    "N_EPOCH = 2\n",
    "N_BATCH = 64\n",
    "N_BATCH_NUM = 250\n",
    "S_DATA_PATH = r\"mnist_train.csv\"\n",
    "S_PADDLE_MODEL_PATH = r\"cnn_model\"\n",
    "S_ONNX_MODEL_PATH = r\"cnn_model_batch%d.onnx\" % N_BATCH\n",
    "S_DEVICE, N_DEVICE_ID, S_DEVICE_FULL = \"gpu\", 0, \"gpu:0\"\n",
    "# S_DEVICE, N_DEVICE_ID, S_DEVICE_FULL = \"cpu\", 0, \"cpu\"\n",
    "paddle.set_device(S_DEVICE_FULL)"
   ]
  },
  {
   "cell_type": "markdown",
   "metadata": {},
   "source": [
    "# Read Data"
   ]
  },
  {
   "cell_type": "code",
   "execution_count": 3,
   "metadata": {},
   "outputs": [
    {
     "name": "stdout",
     "output_type": "stream",
     "text": [
      "(42000, 785)\n",
      "(42000, 785)\n",
      "(16000, 1, 28, 28)\n",
      "(16000,)\n",
      "(26000, 1, 28, 28)\n",
      "(26000,)\n"
     ]
    }
   ],
   "source": [
    "df = pd.read_csv(S_DATA_PATH, header=None)\n",
    "print(df.shape)\n",
    "np_mat = np.array(df)\n",
    "print(np_mat.shape)\n",
    "\n",
    "X = np_mat[:, 1:]\n",
    "Y = np_mat[:, 0]\n",
    "X = X.astype(np.float32) / 255\n",
    "\n",
    "X_train = X[:N_BATCH * N_BATCH_NUM]\n",
    "X_test = X[N_BATCH * N_BATCH_NUM:]\n",
    "Y_train = Y[:N_BATCH * N_BATCH_NUM]\n",
    "Y_test = Y[N_BATCH * N_BATCH_NUM:]\n",
    "X_train = X_train.reshape(X_train.shape[0], 1, 28, 28)\n",
    "X_test = X_test.reshape(X_test.shape[0], 1, 28, 28)\n",
    "print(X_train.shape)\n",
    "print(Y_train.shape)\n",
    "print(X_test.shape)\n",
    "print(Y_test.shape)\n",
    "\n",
    "class MnistDataSet(paddle.io.Dataset):\n",
    "    def __init__(self, X, Y):\n",
    "        self.l_data, self.l_label = [], []\n",
    "        for i in range(X.shape[0]):\n",
    "            self.l_data.append(X[i, :, :, :])\n",
    "            self.l_label.append(Y[i])\n",
    "\n",
    "    def __getitem__(self, index):\n",
    "        return self.l_data[index], self.l_label[index]\n",
    "\n",
    "    def __len__(self):\n",
    "        return len(self.l_data)\n",
    "\n",
    "train_loader = paddle.io.DataLoader(MnistDataSet(X_train, Y_train),  batch_size=N_BATCH, shuffle=True)\n",
    "test_loader = paddle.io.DataLoader(MnistDataSet(X_test, Y_test), batch_size=N_BATCH, shuffle=False)"
   ]
  },
  {
   "cell_type": "markdown",
   "metadata": {},
   "source": [
    "# Build Model"
   ]
  },
  {
   "cell_type": "code",
   "execution_count": 4,
   "metadata": {},
   "outputs": [],
   "source": [
    "class Net(paddle.nn.Layer):\n",
    "    def __init__(self):\n",
    "        super(Net, self).__init__()\n",
    "        self.encoder = paddle.nn.Sequential(paddle.nn.Conv2D(1, 16, 3, 1),\n",
    "                                            paddle.nn.MaxPool2D(2),\n",
    "                                            paddle.nn.Flatten(1),\n",
    "                                            paddle.nn.Linear(2704, 128),\n",
    "                                            paddle.nn.ReLU(),\n",
    "                                            paddle.nn.Linear(128, 10))\n",
    "\n",
    "    def forward(self, x):\n",
    "        out = self.encoder(x)\n",
    "        return out"
   ]
  },
  {
   "cell_type": "markdown",
   "metadata": {},
   "source": [
    "# Model Train and Model Save"
   ]
  },
  {
   "cell_type": "code",
   "execution_count": 5,
   "metadata": {},
   "outputs": [
    {
     "name": "stdout",
     "output_type": "stream",
     "text": [
      "model train\n"
     ]
    },
    {
     "ename": "RuntimeError",
     "evalue": "(PreconditionNotMet) The third-party dynamic library (cudnn64_7.dll) that Paddle depends on is not configured correctly. (error code is 126)\n  Suggestions:\n  1. Check if the third-party dynamic library (e.g. CUDA, CUDNN) is installed correctly and its version is matched with paddlepaddle you installed.\n  2. Configure third-party dynamic library environment variables as follows:\n  - Linux: set LD_LIBRARY_PATH by `export LD_LIBRARY_PATH=...`\n  - Windows: set PATH by `set PATH=XXX; (at ..\\paddle\\fluid\\platform\\dynload\\dynamic_loader.cc:285)\n  [operator < gaussian_random > error]",
     "output_type": "error",
     "traceback": [
      "\u001b[1;31m---------------------------------------------------------------------------\u001b[0m",
      "\u001b[1;31mRuntimeError\u001b[0m                              Traceback (most recent call last)",
      "\u001b[1;32m<ipython-input-5-3f7fdffdb192>\u001b[0m in \u001b[0;36m<module>\u001b[1;34m\u001b[0m\n\u001b[0;32m      1\u001b[0m \u001b[0mprint\u001b[0m\u001b[1;33m(\u001b[0m\u001b[1;34m\"model train\"\u001b[0m\u001b[1;33m)\u001b[0m\u001b[1;33m\u001b[0m\u001b[1;33m\u001b[0m\u001b[0m\n\u001b[1;32m----> 2\u001b[1;33m \u001b[0mmodel\u001b[0m \u001b[1;33m=\u001b[0m \u001b[0mpaddle\u001b[0m\u001b[1;33m.\u001b[0m\u001b[0mModel\u001b[0m\u001b[1;33m(\u001b[0m\u001b[0mNet\u001b[0m\u001b[1;33m(\u001b[0m\u001b[1;33m)\u001b[0m\u001b[1;33m,\u001b[0m \u001b[0mInputSpec\u001b[0m\u001b[1;33m(\u001b[0m\u001b[1;33m[\u001b[0m\u001b[1;32mNone\u001b[0m\u001b[1;33m,\u001b[0m \u001b[1;36m1\u001b[0m\u001b[1;33m,\u001b[0m \u001b[1;36m28\u001b[0m\u001b[1;33m,\u001b[0m \u001b[1;36m28\u001b[0m\u001b[1;33m]\u001b[0m\u001b[1;33m,\u001b[0m \u001b[1;34m'float32'\u001b[0m\u001b[1;33m,\u001b[0m \u001b[1;34m'x'\u001b[0m\u001b[1;33m)\u001b[0m\u001b[1;33m,\u001b[0m \u001b[0mInputSpec\u001b[0m\u001b[1;33m(\u001b[0m\u001b[1;33m[\u001b[0m\u001b[1;32mNone\u001b[0m\u001b[1;33m,\u001b[0m \u001b[1;36m10\u001b[0m\u001b[1;33m]\u001b[0m\u001b[1;33m,\u001b[0m \u001b[1;34m'float32'\u001b[0m\u001b[1;33m,\u001b[0m \u001b[1;34m'x'\u001b[0m\u001b[1;33m)\u001b[0m\u001b[1;33m)\u001b[0m\u001b[1;33m\u001b[0m\u001b[1;33m\u001b[0m\u001b[0m\n\u001b[0m\u001b[0;32m      3\u001b[0m \u001b[0mmodel\u001b[0m\u001b[1;33m.\u001b[0m\u001b[0mprepare\u001b[0m\u001b[1;33m(\u001b[0m\u001b[0mpaddle\u001b[0m\u001b[1;33m.\u001b[0m\u001b[0moptimizer\u001b[0m\u001b[1;33m.\u001b[0m\u001b[0mAdam\u001b[0m\u001b[1;33m(\u001b[0m\u001b[0mlearning_rate\u001b[0m\u001b[1;33m=\u001b[0m\u001b[1;36m0.001\u001b[0m\u001b[1;33m,\u001b[0m \u001b[0mparameters\u001b[0m\u001b[1;33m=\u001b[0m\u001b[0mmodel\u001b[0m\u001b[1;33m.\u001b[0m\u001b[0mparameters\u001b[0m\u001b[1;33m(\u001b[0m\u001b[1;33m)\u001b[0m\u001b[1;33m)\u001b[0m\u001b[1;33m,\u001b[0m \u001b[0mpaddle\u001b[0m\u001b[1;33m.\u001b[0m\u001b[0mnn\u001b[0m\u001b[1;33m.\u001b[0m\u001b[0mCrossEntropyLoss\u001b[0m\u001b[1;33m(\u001b[0m\u001b[1;33m)\u001b[0m\u001b[1;33m,\u001b[0m \u001b[0mAccuracy\u001b[0m\u001b[1;33m(\u001b[0m\u001b[1;33m)\u001b[0m\u001b[1;33m)\u001b[0m\u001b[1;33m\u001b[0m\u001b[1;33m\u001b[0m\u001b[0m\n\u001b[0;32m      4\u001b[0m model.fit(train_loader,\n\u001b[0;32m      5\u001b[0m           \u001b[0mtest_loader\u001b[0m\u001b[1;33m,\u001b[0m\u001b[1;33m\u001b[0m\u001b[1;33m\u001b[0m\u001b[0m\n",
      "\u001b[1;32m<ipython-input-4-d1343fd93f94>\u001b[0m in \u001b[0;36m__init__\u001b[1;34m(self)\u001b[0m\n\u001b[0;32m      2\u001b[0m     \u001b[1;32mdef\u001b[0m \u001b[0m__init__\u001b[0m\u001b[1;33m(\u001b[0m\u001b[0mself\u001b[0m\u001b[1;33m)\u001b[0m\u001b[1;33m:\u001b[0m\u001b[1;33m\u001b[0m\u001b[1;33m\u001b[0m\u001b[0m\n\u001b[0;32m      3\u001b[0m         \u001b[0msuper\u001b[0m\u001b[1;33m(\u001b[0m\u001b[0mNet\u001b[0m\u001b[1;33m,\u001b[0m \u001b[0mself\u001b[0m\u001b[1;33m)\u001b[0m\u001b[1;33m.\u001b[0m\u001b[0m__init__\u001b[0m\u001b[1;33m(\u001b[0m\u001b[1;33m)\u001b[0m\u001b[1;33m\u001b[0m\u001b[1;33m\u001b[0m\u001b[0m\n\u001b[1;32m----> 4\u001b[1;33m         self.encoder = paddle.nn.Sequential(paddle.nn.Conv2D(1, 16, 3, 1),\n\u001b[0m\u001b[0;32m      5\u001b[0m                                             \u001b[0mpaddle\u001b[0m\u001b[1;33m.\u001b[0m\u001b[0mnn\u001b[0m\u001b[1;33m.\u001b[0m\u001b[0mMaxPool2D\u001b[0m\u001b[1;33m(\u001b[0m\u001b[1;36m2\u001b[0m\u001b[1;33m)\u001b[0m\u001b[1;33m,\u001b[0m\u001b[1;33m\u001b[0m\u001b[1;33m\u001b[0m\u001b[0m\n\u001b[0;32m      6\u001b[0m                                             \u001b[0mpaddle\u001b[0m\u001b[1;33m.\u001b[0m\u001b[0mnn\u001b[0m\u001b[1;33m.\u001b[0m\u001b[0mFlatten\u001b[0m\u001b[1;33m(\u001b[0m\u001b[1;36m1\u001b[0m\u001b[1;33m)\u001b[0m\u001b[1;33m,\u001b[0m\u001b[1;33m\u001b[0m\u001b[1;33m\u001b[0m\u001b[0m\n",
      "\u001b[1;32m~\\AppData\\Roaming\\Python\\Python37\\site-packages\\paddle\\nn\\layer\\conv.py\u001b[0m in \u001b[0;36m__init__\u001b[1;34m(self, in_channels, out_channels, kernel_size, stride, padding, dilation, groups, padding_mode, weight_attr, bias_attr, data_format)\u001b[0m\n\u001b[0;32m    654\u001b[0m             \u001b[0mweight_attr\u001b[0m\u001b[1;33m=\u001b[0m\u001b[0mweight_attr\u001b[0m\u001b[1;33m,\u001b[0m\u001b[1;33m\u001b[0m\u001b[1;33m\u001b[0m\u001b[0m\n\u001b[0;32m    655\u001b[0m             \u001b[0mbias_attr\u001b[0m\u001b[1;33m=\u001b[0m\u001b[0mbias_attr\u001b[0m\u001b[1;33m,\u001b[0m\u001b[1;33m\u001b[0m\u001b[1;33m\u001b[0m\u001b[0m\n\u001b[1;32m--> 656\u001b[1;33m             data_format=data_format)\n\u001b[0m\u001b[0;32m    657\u001b[0m \u001b[1;33m\u001b[0m\u001b[0m\n\u001b[0;32m    658\u001b[0m     \u001b[1;32mdef\u001b[0m \u001b[0mforward\u001b[0m\u001b[1;33m(\u001b[0m\u001b[0mself\u001b[0m\u001b[1;33m,\u001b[0m \u001b[0mx\u001b[0m\u001b[1;33m)\u001b[0m\u001b[1;33m:\u001b[0m\u001b[1;33m\u001b[0m\u001b[1;33m\u001b[0m\u001b[0m\n",
      "\u001b[1;32m~\\AppData\\Roaming\\Python\\Python37\\site-packages\\paddle\\nn\\layer\\conv.py\u001b[0m in \u001b[0;36m__init__\u001b[1;34m(self, in_channels, out_channels, kernel_size, transposed, dims, stride, padding, padding_mode, output_padding, dilation, groups, weight_attr, bias_attr, data_format)\u001b[0m\n\u001b[0;32m    133\u001b[0m             \u001b[0mshape\u001b[0m\u001b[1;33m=\u001b[0m\u001b[0mfilter_shape\u001b[0m\u001b[1;33m,\u001b[0m\u001b[1;33m\u001b[0m\u001b[1;33m\u001b[0m\u001b[0m\n\u001b[0;32m    134\u001b[0m             \u001b[0mattr\u001b[0m\u001b[1;33m=\u001b[0m\u001b[0mself\u001b[0m\u001b[1;33m.\u001b[0m\u001b[0m_param_attr\u001b[0m\u001b[1;33m,\u001b[0m\u001b[1;33m\u001b[0m\u001b[1;33m\u001b[0m\u001b[0m\n\u001b[1;32m--> 135\u001b[1;33m             default_initializer=_get_default_param_initializer())\n\u001b[0m\u001b[0;32m    136\u001b[0m         self.bias = self.create_parameter(\n\u001b[0;32m    137\u001b[0m             attr=self._bias_attr, shape=[self._out_channels], is_bias=True)\n",
      "\u001b[1;32m~\\AppData\\Roaming\\Python\\Python37\\site-packages\\paddle\\fluid\\dygraph\\layers.py\u001b[0m in \u001b[0;36mcreate_parameter\u001b[1;34m(self, shape, attr, dtype, is_bias, default_initializer)\u001b[0m\n\u001b[0;32m    420\u001b[0m             \u001b[0mtemp_attr\u001b[0m \u001b[1;33m=\u001b[0m \u001b[1;32mNone\u001b[0m\u001b[1;33m\u001b[0m\u001b[1;33m\u001b[0m\u001b[0m\n\u001b[0;32m    421\u001b[0m         return self._helper.create_parameter(temp_attr, shape, dtype, is_bias,\n\u001b[1;32m--> 422\u001b[1;33m                                              default_initializer)\n\u001b[0m\u001b[0;32m    423\u001b[0m \u001b[1;33m\u001b[0m\u001b[0m\n\u001b[0;32m    424\u001b[0m     @deprecated(\n",
      "\u001b[1;32m~\\AppData\\Roaming\\Python\\Python37\\site-packages\\paddle\\fluid\\layer_helper_base.py\u001b[0m in \u001b[0;36mcreate_parameter\u001b[1;34m(self, attr, shape, dtype, is_bias, default_initializer, stop_gradient, type)\u001b[0m\n\u001b[0;32m    376\u001b[0m                 \u001b[0mtype\u001b[0m\u001b[1;33m=\u001b[0m\u001b[0mtype\u001b[0m\u001b[1;33m,\u001b[0m\u001b[1;33m\u001b[0m\u001b[1;33m\u001b[0m\u001b[0m\n\u001b[0;32m    377\u001b[0m                 \u001b[0mstop_gradient\u001b[0m\u001b[1;33m=\u001b[0m\u001b[0mstop_gradient\u001b[0m\u001b[1;33m,\u001b[0m\u001b[1;33m\u001b[0m\u001b[1;33m\u001b[0m\u001b[0m\n\u001b[1;32m--> 378\u001b[1;33m                 **attr._to_kwargs(with_initializer=True))\n\u001b[0m\u001b[0;32m    379\u001b[0m         \u001b[1;32melse\u001b[0m\u001b[1;33m:\u001b[0m\u001b[1;33m\u001b[0m\u001b[1;33m\u001b[0m\u001b[0m\n\u001b[0;32m    380\u001b[0m             self.startup_program.global_block().create_parameter(\n",
      "\u001b[1;32m~\\AppData\\Roaming\\Python\\Python37\\site-packages\\paddle\\fluid\\framework.py\u001b[0m in \u001b[0;36mcreate_parameter\u001b[1;34m(self, *args, **kwargs)\u001b[0m\n\u001b[0;32m   3135\u001b[0m                 \u001b[1;32mpass\u001b[0m\u001b[1;33m\u001b[0m\u001b[1;33m\u001b[0m\u001b[0m\n\u001b[0;32m   3136\u001b[0m             \u001b[1;32melse\u001b[0m\u001b[1;33m:\u001b[0m\u001b[1;33m\u001b[0m\u001b[1;33m\u001b[0m\u001b[0m\n\u001b[1;32m-> 3137\u001b[1;33m                 \u001b[0minitializer\u001b[0m\u001b[1;33m(\u001b[0m\u001b[0mparam\u001b[0m\u001b[1;33m,\u001b[0m \u001b[0mself\u001b[0m\u001b[1;33m)\u001b[0m\u001b[1;33m\u001b[0m\u001b[1;33m\u001b[0m\u001b[0m\n\u001b[0m\u001b[0;32m   3138\u001b[0m         \u001b[1;32mreturn\u001b[0m \u001b[0mparam\u001b[0m\u001b[1;33m\u001b[0m\u001b[1;33m\u001b[0m\u001b[0m\n\u001b[0;32m   3139\u001b[0m \u001b[1;33m\u001b[0m\u001b[0m\n",
      "\u001b[1;32m~\\AppData\\Roaming\\Python\\Python37\\site-packages\\paddle\\fluid\\initializer.py\u001b[0m in \u001b[0;36m__call__\u001b[1;34m(self, var, block)\u001b[0m\n\u001b[0;32m    360\u001b[0m                 \u001b[1;34m\"use_mkldnn\"\u001b[0m\u001b[1;33m:\u001b[0m \u001b[1;32mFalse\u001b[0m\u001b[1;33m\u001b[0m\u001b[1;33m\u001b[0m\u001b[0m\n\u001b[0;32m    361\u001b[0m             },\n\u001b[1;32m--> 362\u001b[1;33m             stop_gradient=True)\n\u001b[0m\u001b[0;32m    363\u001b[0m \u001b[1;33m\u001b[0m\u001b[0m\n\u001b[0;32m    364\u001b[0m         \u001b[1;32mif\u001b[0m \u001b[0mvar\u001b[0m\u001b[1;33m.\u001b[0m\u001b[0mdtype\u001b[0m \u001b[1;32min\u001b[0m \u001b[1;33m[\u001b[0m\u001b[0mVarDesc\u001b[0m\u001b[1;33m.\u001b[0m\u001b[0mVarType\u001b[0m\u001b[1;33m.\u001b[0m\u001b[0mFP16\u001b[0m\u001b[1;33m,\u001b[0m \u001b[0mVarDesc\u001b[0m\u001b[1;33m.\u001b[0m\u001b[0mVarType\u001b[0m\u001b[1;33m.\u001b[0m\u001b[0mBF16\u001b[0m\u001b[1;33m]\u001b[0m\u001b[1;33m:\u001b[0m\u001b[1;33m\u001b[0m\u001b[1;33m\u001b[0m\u001b[0m\n",
      "\u001b[1;32m~\\AppData\\Roaming\\Python\\Python37\\site-packages\\paddle\\fluid\\framework.py\u001b[0m in \u001b[0;36mappend_op\u001b[1;34m(self, *args, **kwargs)\u001b[0m\n\u001b[0;32m   3165\u001b[0m                                        \u001b[0mkwargs\u001b[0m\u001b[1;33m.\u001b[0m\u001b[0mget\u001b[0m\u001b[1;33m(\u001b[0m\u001b[1;34m\"outputs\"\u001b[0m\u001b[1;33m,\u001b[0m \u001b[1;33m{\u001b[0m\u001b[1;33m}\u001b[0m\u001b[1;33m)\u001b[0m\u001b[1;33m,\u001b[0m \u001b[0mattrs\u001b[0m\u001b[1;33m\u001b[0m\u001b[1;33m\u001b[0m\u001b[0m\n\u001b[0;32m   3166\u001b[0m                                        \u001b[1;32mif\u001b[0m \u001b[0mattrs\u001b[0m \u001b[1;32melse\u001b[0m \u001b[1;33m{\u001b[0m\u001b[1;33m}\u001b[0m\u001b[1;33m,\u001b[0m\u001b[1;33m\u001b[0m\u001b[1;33m\u001b[0m\u001b[0m\n\u001b[1;32m-> 3167\u001b[1;33m                                        kwargs.get(\"stop_gradient\", False))\n\u001b[0m\u001b[0;32m   3168\u001b[0m         \u001b[1;32melse\u001b[0m\u001b[1;33m:\u001b[0m\u001b[1;33m\u001b[0m\u001b[1;33m\u001b[0m\u001b[0m\n\u001b[0;32m   3169\u001b[0m             \u001b[1;32mfrom\u001b[0m \u001b[0mpaddle\u001b[0m\u001b[1;33m.\u001b[0m\u001b[0mfluid\u001b[0m\u001b[1;33m.\u001b[0m\u001b[0mdygraph\u001b[0m\u001b[1;33m.\u001b[0m\u001b[0mbase\u001b[0m \u001b[1;32mimport\u001b[0m \u001b[0mparam_guard\u001b[0m\u001b[1;33m\u001b[0m\u001b[1;33m\u001b[0m\u001b[0m\n",
      "\u001b[1;32m~\\AppData\\Roaming\\Python\\Python37\\site-packages\\paddle\\fluid\\dygraph\\tracer.py\u001b[0m in \u001b[0;36mtrace_op\u001b[1;34m(self, type, inputs, outputs, attrs, stop_gradient)\u001b[0m\n\u001b[0;32m     43\u001b[0m         self.trace(type, inputs, outputs, attrs,\n\u001b[0;32m     44\u001b[0m                    \u001b[0mframework\u001b[0m\u001b[1;33m.\u001b[0m\u001b[0m_current_expected_place\u001b[0m\u001b[1;33m(\u001b[0m\u001b[1;33m)\u001b[0m\u001b[1;33m,\u001b[0m \u001b[0mself\u001b[0m\u001b[1;33m.\u001b[0m\u001b[0m_has_grad\u001b[0m \u001b[1;32mand\u001b[0m\u001b[1;33m\u001b[0m\u001b[1;33m\u001b[0m\u001b[0m\n\u001b[1;32m---> 45\u001b[1;33m                    not stop_gradient)\n\u001b[0m\u001b[0;32m     46\u001b[0m \u001b[1;33m\u001b[0m\u001b[0m\n\u001b[0;32m     47\u001b[0m     \u001b[1;32mdef\u001b[0m \u001b[0mtrain_mode\u001b[0m\u001b[1;33m(\u001b[0m\u001b[0mself\u001b[0m\u001b[1;33m)\u001b[0m\u001b[1;33m:\u001b[0m\u001b[1;33m\u001b[0m\u001b[1;33m\u001b[0m\u001b[0m\n",
      "\u001b[1;31mRuntimeError\u001b[0m: (PreconditionNotMet) The third-party dynamic library (cudnn64_7.dll) that Paddle depends on is not configured correctly. (error code is 126)\n  Suggestions:\n  1. Check if the third-party dynamic library (e.g. CUDA, CUDNN) is installed correctly and its version is matched with paddlepaddle you installed.\n  2. Configure third-party dynamic library environment variables as follows:\n  - Linux: set LD_LIBRARY_PATH by `export LD_LIBRARY_PATH=...`\n  - Windows: set PATH by `set PATH=XXX; (at ..\\paddle\\fluid\\platform\\dynload\\dynamic_loader.cc:285)\n  [operator < gaussian_random > error]"
     ]
    }
   ],
   "source": [
    "print(\"model train\")\n",
    "model = paddle.Model(Net(), InputSpec([None, 1, 28, 28], 'float32', 'x'), InputSpec([None, 10], 'float32', 'x'))\n",
    "model.prepare(paddle.optimizer.Adam(learning_rate=0.001, parameters=model.parameters()), paddle.nn.CrossEntropyLoss(), Accuracy())\n",
    "model.fit(train_loader,\n",
    "          test_loader,\n",
    "          epochs=N_EPOCH,\n",
    "          batch_size=N_BATCH,\n",
    "          save_dir=S_PADDLE_MODEL_PATH + \"_iter\",\n",
    "          verbose=1)\n",
    "model.save(S_PADDLE_MODEL_PATH + \"_final_model\")\n",
    "print()\n",
    "# model.save(S_PADDLE_MODEL_PATH) # Model save\n"
   ]
  },
  {
   "cell_type": "markdown",
   "metadata": {},
   "source": [
    "# Model Predict"
   ]
  },
  {
   "cell_type": "code",
   "execution_count": null,
   "metadata": {},
   "outputs": [],
   "source": [
    "print(\"model pred\")\n",
    "model.evaluate(test_loader, batch_size=N_BATCH, verbose=1)\n",
    "print()"
   ]
  },
  {
   "cell_type": "markdown",
   "metadata": {},
   "source": [
    "# Model Load and Loaded Model Use"
   ]
  },
  {
   "cell_type": "code",
   "execution_count": null,
   "metadata": {},
   "outputs": [],
   "source": [
    "print(\"load model and pred test data\")\n",
    "model_load = paddle.Model(Net(), InputSpec([None, 1, 28, 28], 'float32', 'x'), InputSpec([None, 10], 'float32', 'x'))\n",
    "# model_load.load(S_PADDLE_MODEL_PATH + \"_iter/final\")\n",
    "model_load.load(S_PADDLE_MODEL_PATH + \"_final_model\")\n",
    "model_load.prepare(paddle.optimizer.Adam(learning_rate=0.001, parameters=model.parameters()), paddle.nn.loss.CrossEntropyLoss(), Accuracy())\n",
    "model_load.evaluate(test_loader, batch_size=N_BATCH, verbose=1)\n",
    "print()"
   ]
  },
  {
   "cell_type": "markdown",
   "metadata": {},
   "source": [
    "# Export Onnx"
   ]
  },
  {
   "cell_type": "code",
   "execution_count": null,
   "metadata": {},
   "outputs": [],
   "source": [
    "x_spec = InputSpec([None, 1, 28, 28], 'float32', 'x')\n",
    "paddle.onnx.export(Net(), S_ONNX_MODEL_PATH, input_spec=[x_spec])"
   ]
  },
  {
   "cell_type": "markdown",
   "metadata": {},
   "source": [
    "# Onnx Run"
   ]
  },
  {
   "cell_type": "code",
   "execution_count": null,
   "metadata": {},
   "outputs": [],
   "source": [
    "S_DEVICE = \"cuda\" if S_DEVICE == \"gpu\" else S_DEVICE\n",
    "model = onnx.load(S_ONNX_MODEL_PATH + \".onnx\")\n",
    "print(onnx.checker.check_model(model))  # Check that the model is well formed\n",
    "print(onnx.helper.printable_graph(model.graph))  # Print a human readable representation of the graph\n",
    "ls_input_name, ls_output_name = [input.name for input in model.graph.input], [output.name for output in model.graph.output]\n",
    "print(\"input name \", ls_input_name)\n",
    "print(\"output name \", ls_output_name)\n",
    "s_input_name = ls_input_name[0]\n",
    "\n",
    "x_input = X_train[:N_BATCH * 2, :, :, :].astype(np.float32)\n",
    "ort_val = ort.OrtValue.ortvalue_from_numpy(x_input, S_DEVICE, N_DEVICE_ID)\n",
    "print(\"val device \", ort_val.device_name())\n",
    "print(\"val shape \", ort_val.shape())\n",
    "print(\"val data type \", ort_val.data_type())\n",
    "print(\"is_tensor \", ort_val.is_tensor())\n",
    "print(\"array_equal \", np.array_equal(ort_val.numpy(), x_input))\n",
    "providers = 'CUDAExecutionProvider' if S_DEVICE == \"cuda\" else 'CPUExecutionProvider'\n",
    "print(\"providers \", providers)\n",
    "ort_session = ort.InferenceSession(S_ONNX_MODEL_PATH + \".onnx\", providers=[providers])  # gpu运行\n",
    "ort_session.set_providers([providers])\n",
    "outputs = ort_session.run(None, {s_input_name: ort_val})\n",
    "print(\"sess env \", ort_session.get_providers())\n",
    "print(type(outputs))\n",
    "print(outputs[0])\n",
    "'''\n",
    "For example ['CUDAExecutionProvider', 'CPUExecutionProvider']\n",
    "    means execute a node using CUDAExecutionProvider if capable, otherwise execute using CPUExecutionProvider.\n",
    "'''"
   ]
  },
  {
   "cell_type": "code",
   "execution_count": null,
   "metadata": {},
   "outputs": [],
   "source": []
  },
  {
   "cell_type": "code",
   "execution_count": null,
   "metadata": {},
   "outputs": [],
   "source": []
  },
  {
   "cell_type": "code",
   "execution_count": null,
   "metadata": {},
   "outputs": [],
   "source": []
  },
  {
   "cell_type": "code",
   "execution_count": null,
   "metadata": {},
   "outputs": [],
   "source": []
  }
 ],
 "metadata": {
  "kernelspec": {
   "display_name": "Python 3",
   "language": "python",
   "name": "python3"
  },
  "language_info": {
   "codemirror_mode": {
    "name": "ipython",
    "version": 3
   },
   "file_extension": ".py",
   "mimetype": "text/x-python",
   "name": "python",
   "nbconvert_exporter": "python",
   "pygments_lexer": "ipython3",
   "version": "3.7.4"
  }
 },
 "nbformat": 4,
 "nbformat_minor": 5
}
