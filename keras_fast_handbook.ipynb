{
 "cells": [
  {
   "cell_type": "code",
   "execution_count": 1,
   "id": "9db48e2a",
   "metadata": {},
   "outputs": [],
   "source": [
    "import os\n",
    "import onnx\n",
    "import keras\n",
    "import logging\n",
    "import subprocess\n",
    "import numpy as np\n",
    "import pandas as pd\n",
    "import tensorflow as tf\n",
    "import onnxruntime as ort\n",
    "from sklearn.metrics import accuracy_score\n",
    "from keras.models import Sequential, Model, load_model, save_model\n",
    "from keras.layers import Dense, Activation, Dropout, Conv2D, Flatten, MaxPool2D, Input, Conv1D\n",
    "from keras.utils.np_utils import to_categorical\n",
    "\n",
    "tf.autograph.set_verbosity(0)\n",
    "logging.getLogger(\"tensorflow\").setLevel(logging.ERROR)"
   ]
  },
  {
   "cell_type": "markdown",
   "id": "b2b1e5e7",
   "metadata": {},
   "source": [
    "# Param Config"
   ]
  },
  {
   "cell_type": "code",
   "execution_count": 2,
   "id": "9dc34010",
   "metadata": {},
   "outputs": [],
   "source": [
    "N_EPOCH = 1\n",
    "N_BATCH = 64\n",
    "N_BATCH_NUM = 500\n",
    "S_DATA_PATH = r\"mnist_train.csv\"\n",
    "S_KERAS_MODEL_DIR_PATH = r\"cnn_keras\"\n",
    "S_KERAS_MODEL_PATH = r\"cnn_keras.h5\"\n",
    "S_ONNX_MODEL_PATH = r\"cnn_keras.onnx\"\n",
    "S_DEVICE, N_DEVICE_ID, S_DEVICE_FULL = \"cuda\", 0, \"cuda:0\"\n",
    "# S_DEVICE, N_DEVICE_ID, S_DEVICE_FULL = \"cpu\", 0, \"cpu\"\n",
    "\n",
    "if S_DEVICE == \"cpu\":\n",
    "    os.environ[\"CUDA_VISIBLE_DEVICES\"] = \"-1\""
   ]
  },
  {
   "cell_type": "markdown",
   "id": "74003e28",
   "metadata": {},
   "source": [
    "# Read Data"
   ]
  },
  {
   "cell_type": "code",
   "execution_count": 3,
   "id": "568b202e",
   "metadata": {},
   "outputs": [
    {
     "name": "stdout",
     "output_type": "stream",
     "text": [
      "(42000, 785)\n",
      "(42000, 785)\n",
      "(32000, 28, 28, 1)\n",
      "(32000, 10)\n",
      "(10000, 28, 28, 1)\n",
      "(10000, 10)\n"
     ]
    }
   ],
   "source": [
    "df = pd.read_csv(S_DATA_PATH, header=None)\n",
    "np_mat = np.array(df)\n",
    "print(df.shape)\n",
    "print(np_mat.shape)\n",
    "\n",
    "X = np_mat[:, 1:]\n",
    "Y = np_mat[:, 0]\n",
    "X = X.astype(np.float32) / 255\n",
    "X_train = X[:N_BATCH * N_BATCH_NUM]\n",
    "X_test = X[N_BATCH * N_BATCH_NUM:]\n",
    "Y_train = Y[:N_BATCH * N_BATCH_NUM]\n",
    "Y_test = Y[N_BATCH * N_BATCH_NUM:]\n",
    "\n",
    "X_train = X_train.reshape(X_train.shape[0], 28, 28, 1)\n",
    "X_test = X_test.reshape(X_test.shape[0], 28, 28, 1)\n",
    "Y_train = to_categorical(Y_train, num_classes=10)\n",
    "Y_test = to_categorical(Y_test, num_classes=10)\n",
    "print(X_train.shape)\n",
    "print(Y_train.shape)\n",
    "print(X_test.shape)\n",
    "print(Y_test.shape)"
   ]
  },
  {
   "cell_type": "markdown",
   "id": "ff7af350",
   "metadata": {},
   "source": [
    "# Build Model"
   ]
  },
  {
   "cell_type": "code",
   "execution_count": 4,
   "id": "ad6d1825",
   "metadata": {},
   "outputs": [
    {
     "name": "stdout",
     "output_type": "stream",
     "text": [
      "Model: \"model\"\n",
      "_________________________________________________________________\n",
      "Layer (type)                 Output Shape              Param #   \n",
      "=================================================================\n",
      "input_1 (InputLayer)         [(None, 28, 28, 1)]       0         \n",
      "_________________________________________________________________\n",
      "conv2d (Conv2D)              (None, 26, 26, 32)        320       \n",
      "_________________________________________________________________\n",
      "max_pooling2d (MaxPooling2D) (None, 13, 13, 32)        0         \n",
      "_________________________________________________________________\n",
      "dropout (Dropout)            (None, 13, 13, 32)        0         \n",
      "_________________________________________________________________\n",
      "flatten (Flatten)            (None, 5408)              0         \n",
      "_________________________________________________________________\n",
      "dense (Dense)                (None, 128)               692352    \n",
      "_________________________________________________________________\n",
      "activation (Activation)      (None, 128)               0         \n",
      "_________________________________________________________________\n",
      "dense_1 (Dense)              (None, 10)                1290      \n",
      "_________________________________________________________________\n",
      "activation_1 (Activation)    (None, 10)                0         \n",
      "=================================================================\n",
      "Total params: 693,962\n",
      "Trainable params: 693,962\n",
      "Non-trainable params: 0\n",
      "_________________________________________________________________\n",
      "None\n"
     ]
    }
   ],
   "source": [
    "x_in = Input(shape=(28, 28, 1))  # 图像维度必须是 w h c\n",
    "x = Conv2D(filters=32, kernel_size=(3, 3))(x_in)\n",
    "x = MaxPool2D(pool_size=(2, 2))(x)\n",
    "x = Dropout(0.2)(x)\n",
    "x = Flatten()(x)\n",
    "x = Dense(128)(x)\n",
    "x = Activation('relu')(x)\n",
    "x = Dense(10)(x)\n",
    "y = Activation('softmax')(x)\n",
    "model = Model(x_in, y)\n",
    "model.compile(optimizer='adam', loss='categorical_crossentropy', metrics=['accuracy'])\n",
    "print(model.summary())"
   ]
  },
  {
   "cell_type": "markdown",
   "id": "118cd938",
   "metadata": {},
   "source": [
    "# Model Train and Model Save"
   ]
  },
  {
   "cell_type": "code",
   "execution_count": 5,
   "id": "dee7705d",
   "metadata": {},
   "outputs": [
    {
     "name": "stdout",
     "output_type": "stream",
     "text": [
      "500/500 [==============================] - 4s 3ms/step - loss: 0.2790 - accuracy: 0.9183 - val_loss: 0.1183 - val_accuracy: 0.9665\n",
      "Test score: 0.11834129691123962\n",
      "Test accuracy: 0.9664999842643738\n"
     ]
    }
   ],
   "source": [
    "model.fit(X_train,\n",
    "          Y_train,\n",
    "          epochs=N_EPOCH,\n",
    "          batch_size=N_BATCH,\n",
    "          verbose=1,\n",
    "          validation_data=(X_test, Y_test))\n",
    "score = model.evaluate(X_test, Y_test, verbose=0)\n",
    "print('Test score:', score[0])\n",
    "print('Test accuracy:', score[1])\n",
    "save_model(model, S_KERAS_MODEL_PATH)"
   ]
  },
  {
   "cell_type": "markdown",
   "id": "e0d3152f",
   "metadata": {},
   "source": [
    "# Model Load and Loaded Model Use "
   ]
  },
  {
   "cell_type": "code",
   "execution_count": 6,
   "id": "38a8a90d",
   "metadata": {},
   "outputs": [
    {
     "name": "stdout",
     "output_type": "stream",
     "text": [
      "load model ok\n",
      "load model Test score: 0.11834129691123962\n",
      "load model Test accuracy: 0.9664999842643738\n"
     ]
    }
   ],
   "source": [
    "load_model = load_model(S_KERAS_MODEL_PATH)\n",
    "print(\"load model ok\")\n",
    "score = load_model.evaluate(X_test, Y_test, verbose=0)\n",
    "print('load model Test score:', score[0])\n",
    "print('load model Test accuracy:', score[1])"
   ]
  },
  {
   "cell_type": "markdown",
   "id": "8afc27ad",
   "metadata": {},
   "source": [
    "# Export Onnx"
   ]
  },
  {
   "cell_type": "code",
   "execution_count": 7,
   "id": "66ec6851",
   "metadata": {},
   "outputs": [
    {
     "name": "stdout",
     "output_type": "stream",
     "text": [
      "python -m tf2onnx.convert --keras cnn_keras.h5 --output cnn_keras.onnx\n",
      "0\n"
     ]
    }
   ],
   "source": [
    "s_cmd = 'python -m tf2onnx.convert --keras %s --output %s' % (S_KERAS_MODEL_PATH, S_ONNX_MODEL_PATH)\n",
    "print(s_cmd)\n",
    "print(os.system(s_cmd))\n",
    "# proc = subprocess.run(s_cmd.split(), check=True)\n",
    "# print(proc.returncode)"
   ]
  },
  {
   "cell_type": "markdown",
   "id": "4c0dc389",
   "metadata": {},
   "source": [
    "# # Onnx load and Onnx Run"
   ]
  },
  {
   "cell_type": "code",
   "execution_count": 8,
   "id": "d764ee3f",
   "metadata": {},
   "outputs": [
    {
     "name": "stdout",
     "output_type": "stream",
     "text": [
      "None\n",
      "graph tf2onnx (\n",
      "  %input_1:0[FLOAT, unk__17x28x28x1]\n",
      ") initializers (\n",
      "  %new_shape__15[INT64, 4]\n",
      "  %model/dense_1/MatMul/ReadVariableOp:0[FLOAT, 128x10]\n",
      "  %model/dense_1/BiasAdd/ReadVariableOp:0[FLOAT, 10]\n",
      "  %model/dense/MatMul/ReadVariableOp:0[FLOAT, 5408x128]\n",
      "  %model/dense/BiasAdd/ReadVariableOp:0[FLOAT, 128]\n",
      "  %model/conv2d/Conv2D/ReadVariableOp:0[FLOAT, 32x1x3x3]\n",
      "  %model/conv2d/BiasAdd/ReadVariableOp:0[FLOAT, 32]\n",
      "  %const_fold_opt__16[INT64, 2]\n",
      ") {\n",
      "  %model/conv2d/BiasAdd__6:0 = Reshape(%input_1:0, %new_shape__15)\n",
      "  %model/conv2d/BiasAdd:0 = Conv[dilations = [1, 1], group = 1, kernel_shape = [3, 3], strides = [1, 1]](%model/conv2d/BiasAdd__6:0, %model/conv2d/Conv2D/ReadVariableOp:0, %model/conv2d/BiasAdd/ReadVariableOp:0)\n",
      "  %model/max_pooling2d/MaxPool:0 = MaxPool[kernel_shape = [2, 2], strides = [2, 2]](%model/conv2d/BiasAdd:0)\n",
      "  %model/max_pooling2d/MaxPool__12:0 = Transpose[perm = [0, 2, 3, 1]](%model/max_pooling2d/MaxPool:0)\n",
      "  %model/flatten/Reshape:0 = Reshape(%model/max_pooling2d/MaxPool__12:0, %const_fold_opt__16)\n",
      "  %model/dense/MatMul:0 = MatMul(%model/flatten/Reshape:0, %model/dense/MatMul/ReadVariableOp:0)\n",
      "  %model/dense/BiasAdd:0 = Add(%model/dense/MatMul:0, %model/dense/BiasAdd/ReadVariableOp:0)\n",
      "  %model/activation/Relu:0 = Relu(%model/dense/BiasAdd:0)\n",
      "  %model/dense_1/MatMul:0 = MatMul(%model/activation/Relu:0, %model/dense_1/MatMul/ReadVariableOp:0)\n",
      "  %model/dense_1/BiasAdd:0 = Add(%model/dense_1/MatMul:0, %model/dense_1/BiasAdd/ReadVariableOp:0)\n",
      "  %Identity:0 = Softmax[axis = 1](%model/dense_1/BiasAdd:0)\n",
      "  return %Identity:0\n",
      "}\n",
      "input name  ['input_1:0']\n",
      "output name  ['Identity:0']\n",
      "val device  cuda\n",
      "val shape  [128, 28, 28, 1]\n",
      "val data type  tensor(float)\n",
      "is_tensor  True\n",
      "array_equal  True\n",
      "providers  CUDAExecutionProvider\n",
      "sess env  ['CUDAExecutionProvider', 'CPUExecutionProvider']\n",
      "<class 'list'>\n",
      "[[1.4105987e-06 9.9922800e-01 9.8767028e-05 ... 2.9531977e-06\n",
      "  4.2164139e-04 5.5898317e-06]\n",
      " [9.9994612e-01 1.0964190e-09 2.6901685e-05 ... 7.2908293e-08\n",
      "  1.0331408e-06 3.7086793e-06]\n",
      " [7.2349326e-07 9.9819994e-01 2.1517403e-04 ... 3.0845607e-04\n",
      "  6.2511611e-04 5.4287597e-05]\n",
      " ...\n",
      " [5.6248412e-02 8.2937098e-05 7.0255838e-02 ... 4.6935362e-05\n",
      "  2.0352634e-02 1.2715828e-02]\n",
      " [1.1476686e-06 5.3123313e-06 6.9355383e-04 ... 9.9586236e-01\n",
      "  3.0630534e-05 2.7730793e-03]\n",
      " [2.9749152e-05 1.7607802e-06 5.7684345e-04 ... 9.4584971e-09\n",
      "  2.9356568e-04 5.4195181e-07]]\n"
     ]
    }
   ],
   "source": [
    "model = onnx.load(S_ONNX_MODEL_PATH)\n",
    "print(onnx.checker.check_model(model))  # Check that the model is well formed\n",
    "print(onnx.helper.printable_graph(model.graph))  # Print a human readable representation of the graph\n",
    "ls_input_name, ls_output_name = [input.name for input in model.graph.input], [output.name for output in model.graph.output]\n",
    "print(\"input name \", ls_input_name)\n",
    "print(\"output name \", ls_output_name)\n",
    "s_input_name = ls_input_name[0]\n",
    "\n",
    "x_input = X_train[:N_BATCH*2, :, :, :].astype(np.float32)\n",
    "ort_val = ort.OrtValue.ortvalue_from_numpy(x_input, S_DEVICE, N_DEVICE_ID)\n",
    "print(\"val device \", ort_val.device_name())\n",
    "print(\"val shape \", ort_val.shape())\n",
    "print(\"val data type \", ort_val.data_type())\n",
    "print(\"is_tensor \", ort_val.is_tensor())\n",
    "print(\"array_equal \", np.array_equal(ort_val.numpy(), x_input))\n",
    "providers = 'CUDAExecutionProvider' if S_DEVICE == \"cuda\" else 'CPUExecutionProvider'\n",
    "print(\"providers \", providers)\n",
    "ort_session = ort.InferenceSession(S_ONNX_MODEL_PATH, providers=[providers])  # gpu运行\n",
    "ort_session.set_providers([providers])\n",
    "outputs = ort_session.run(None, {s_input_name: ort_val})\n",
    "print(\"sess env \", ort_session.get_providers())\n",
    "print(type(outputs))\n",
    "print(outputs[0])"
   ]
  },
  {
   "cell_type": "code",
   "execution_count": 9,
   "id": "2bc384f3",
   "metadata": {},
   "outputs": [
    {
     "data": {
      "text/plain": [
       "\"\\nFor example ['CUDAExecutionProvider', 'CPUExecutionProvider']\\n    means execute a node using CUDAExecutionProvider if capable, otherwise execute using CPUExecutionProvider.\\n\""
      ]
     },
     "execution_count": 9,
     "metadata": {},
     "output_type": "execute_result"
    }
   ],
   "source": [
    "'''\n",
    "For example ['CUDAExecutionProvider', 'CPUExecutionProvider']\n",
    "    means execute a node using CUDAExecutionProvider if capable, otherwise execute using CPUExecutionProvider.\n",
    "'''"
   ]
  },
  {
   "cell_type": "code",
   "execution_count": null,
   "id": "7bcc5f90",
   "metadata": {},
   "outputs": [],
   "source": []
  },
  {
   "cell_type": "code",
   "execution_count": null,
   "id": "4340da61",
   "metadata": {},
   "outputs": [],
   "source": []
  },
  {
   "cell_type": "code",
   "execution_count": null,
   "id": "d3fd9e85",
   "metadata": {},
   "outputs": [],
   "source": []
  },
  {
   "cell_type": "code",
   "execution_count": null,
   "id": "ff8b6ca3",
   "metadata": {},
   "outputs": [],
   "source": []
  }
 ],
 "metadata": {
  "kernelspec": {
   "display_name": "Python 3",
   "language": "python",
   "name": "python3"
  },
  "language_info": {
   "codemirror_mode": {
    "name": "ipython",
    "version": 3
   },
   "file_extension": ".py",
   "mimetype": "text/x-python",
   "name": "python",
   "nbconvert_exporter": "python",
   "pygments_lexer": "ipython3",
   "version": "3.7.4"
  }
 },
 "nbformat": 4,
 "nbformat_minor": 5
}
